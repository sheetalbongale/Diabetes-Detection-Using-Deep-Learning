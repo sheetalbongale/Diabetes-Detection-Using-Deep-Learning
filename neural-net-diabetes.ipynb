{
 "cells": [
  {
   "cell_type": "code",
   "execution_count": 1,
   "metadata": {},
   "outputs": [],
   "source": [
    "# first neural network with keras tutorial\n",
    "from numpy import loadtxt\n",
    "from keras.models import Sequential\n",
    "from keras.layers import Dense\n",
    "from keras.utils import np_utils\n",
    "import pandas as pd\n",
    "import numpy as np\n",
    "import matplotlib.pyplot as plt\n",
    "from sklearn.preprocessing import scale\n",
    "from sklearn.metrics import accuracy_score\n",
    "from sklearn.model_selection import train_test_split"
   ]
  },
  {
   "cell_type": "markdown",
   "metadata": {},
   "source": [
    "## 1. Load Data"
   ]
  },
  {
   "cell_type": "code",
   "execution_count": 2,
   "metadata": {},
   "outputs": [
    {
     "data": {
      "text/html": [
       "<div>\n",
       "<style scoped>\n",
       "    .dataframe tbody tr th:only-of-type {\n",
       "        vertical-align: middle;\n",
       "    }\n",
       "\n",
       "    .dataframe tbody tr th {\n",
       "        vertical-align: top;\n",
       "    }\n",
       "\n",
       "    .dataframe thead th {\n",
       "        text-align: right;\n",
       "    }\n",
       "</style>\n",
       "<table border=\"1\" class=\"dataframe\">\n",
       "  <thead>\n",
       "    <tr style=\"text-align: right;\">\n",
       "      <th></th>\n",
       "      <th>0</th>\n",
       "      <th>1</th>\n",
       "      <th>2</th>\n",
       "      <th>3</th>\n",
       "      <th>4</th>\n",
       "      <th>5</th>\n",
       "      <th>6</th>\n",
       "      <th>7</th>\n",
       "      <th>8</th>\n",
       "    </tr>\n",
       "  </thead>\n",
       "  <tbody>\n",
       "    <tr>\n",
       "      <th>0</th>\n",
       "      <td>6</td>\n",
       "      <td>148</td>\n",
       "      <td>72</td>\n",
       "      <td>35</td>\n",
       "      <td>0</td>\n",
       "      <td>33.6</td>\n",
       "      <td>0.627</td>\n",
       "      <td>50</td>\n",
       "      <td>1</td>\n",
       "    </tr>\n",
       "    <tr>\n",
       "      <th>1</th>\n",
       "      <td>1</td>\n",
       "      <td>85</td>\n",
       "      <td>66</td>\n",
       "      <td>29</td>\n",
       "      <td>0</td>\n",
       "      <td>26.6</td>\n",
       "      <td>0.351</td>\n",
       "      <td>31</td>\n",
       "      <td>0</td>\n",
       "    </tr>\n",
       "    <tr>\n",
       "      <th>2</th>\n",
       "      <td>8</td>\n",
       "      <td>183</td>\n",
       "      <td>64</td>\n",
       "      <td>0</td>\n",
       "      <td>0</td>\n",
       "      <td>23.3</td>\n",
       "      <td>0.672</td>\n",
       "      <td>32</td>\n",
       "      <td>1</td>\n",
       "    </tr>\n",
       "    <tr>\n",
       "      <th>3</th>\n",
       "      <td>1</td>\n",
       "      <td>89</td>\n",
       "      <td>66</td>\n",
       "      <td>23</td>\n",
       "      <td>94</td>\n",
       "      <td>28.1</td>\n",
       "      <td>0.167</td>\n",
       "      <td>21</td>\n",
       "      <td>0</td>\n",
       "    </tr>\n",
       "    <tr>\n",
       "      <th>4</th>\n",
       "      <td>0</td>\n",
       "      <td>137</td>\n",
       "      <td>40</td>\n",
       "      <td>35</td>\n",
       "      <td>168</td>\n",
       "      <td>43.1</td>\n",
       "      <td>2.288</td>\n",
       "      <td>33</td>\n",
       "      <td>1</td>\n",
       "    </tr>\n",
       "  </tbody>\n",
       "</table>\n",
       "</div>"
      ],
      "text/plain": [
       "   0    1   2   3    4     5      6   7  8\n",
       "0  6  148  72  35    0  33.6  0.627  50  1\n",
       "1  1   85  66  29    0  26.6  0.351  31  0\n",
       "2  8  183  64   0    0  23.3  0.672  32  1\n",
       "3  1   89  66  23   94  28.1  0.167  21  0\n",
       "4  0  137  40  35  168  43.1  2.288  33  1"
      ]
     },
     "execution_count": 2,
     "metadata": {},
     "output_type": "execute_result"
    }
   ],
   "source": [
    "df = pd.read_csv('data/pima-indians-diabetes.csv', header=None)\n",
    "df.head()"
   ]
  },
  {
   "cell_type": "markdown",
   "metadata": {},
   "source": [
    "All of the input variables that describe each patient are numerical. \n",
    "\n",
    "Hence, load the file as a matrix of numbers using the NumPy function `loadtxt()`.\n",
    "\n",
    "There are eight input variables and one output variable (the last column). We will be learning a model to map rows of input variables (X) to an output variable (y), which we often summarize as `y = f(X)`\n",
    "\n",
    "The variables can be summarized as follows:\n",
    "\n",
    "<b>Input Variables (X):</b>\n",
    "\n",
    "0. Number of times pregnant\n",
    "1. Plasma glucose concentration a 2 hours in an oral glucose tolerance test\n",
    "2. Diastolic blood pressure (mm Hg)\n",
    "3. Triceps skin fold thickness (mm)\n",
    "4. 2-Hour serum insulin (mu U/ml)\n",
    "5. Body mass index (weight in kg/(height in m)^2)\n",
    "6. Diabetes pedigree function\n",
    "7. Age (years)\n",
    "\n",
    "<b>Output Variables (y):</b>\n",
    "\n",
    "8. Class variable (0 or 1)\n"
   ]
  },
  {
   "cell_type": "code",
   "execution_count": 3,
   "metadata": {},
   "outputs": [
    {
     "data": {
      "text/html": [
       "<div>\n",
       "<style scoped>\n",
       "    .dataframe tbody tr th:only-of-type {\n",
       "        vertical-align: middle;\n",
       "    }\n",
       "\n",
       "    .dataframe tbody tr th {\n",
       "        vertical-align: top;\n",
       "    }\n",
       "\n",
       "    .dataframe thead th {\n",
       "        text-align: right;\n",
       "    }\n",
       "</style>\n",
       "<table border=\"1\" class=\"dataframe\">\n",
       "  <thead>\n",
       "    <tr style=\"text-align: right;\">\n",
       "      <th></th>\n",
       "      <th>Pregnancies</th>\n",
       "      <th>Glucose</th>\n",
       "      <th>BloodPressure</th>\n",
       "      <th>SkinThickness</th>\n",
       "      <th>Insulin</th>\n",
       "      <th>BMI</th>\n",
       "      <th>DiabetesPedigreeFunction</th>\n",
       "      <th>Age</th>\n",
       "      <th>Class</th>\n",
       "    </tr>\n",
       "  </thead>\n",
       "  <tbody>\n",
       "    <tr>\n",
       "      <th>0</th>\n",
       "      <td>6</td>\n",
       "      <td>148</td>\n",
       "      <td>72</td>\n",
       "      <td>35</td>\n",
       "      <td>0</td>\n",
       "      <td>33.6</td>\n",
       "      <td>0.627</td>\n",
       "      <td>50</td>\n",
       "      <td>1</td>\n",
       "    </tr>\n",
       "    <tr>\n",
       "      <th>1</th>\n",
       "      <td>1</td>\n",
       "      <td>85</td>\n",
       "      <td>66</td>\n",
       "      <td>29</td>\n",
       "      <td>0</td>\n",
       "      <td>26.6</td>\n",
       "      <td>0.351</td>\n",
       "      <td>31</td>\n",
       "      <td>0</td>\n",
       "    </tr>\n",
       "    <tr>\n",
       "      <th>2</th>\n",
       "      <td>8</td>\n",
       "      <td>183</td>\n",
       "      <td>64</td>\n",
       "      <td>0</td>\n",
       "      <td>0</td>\n",
       "      <td>23.3</td>\n",
       "      <td>0.672</td>\n",
       "      <td>32</td>\n",
       "      <td>1</td>\n",
       "    </tr>\n",
       "    <tr>\n",
       "      <th>3</th>\n",
       "      <td>1</td>\n",
       "      <td>89</td>\n",
       "      <td>66</td>\n",
       "      <td>23</td>\n",
       "      <td>94</td>\n",
       "      <td>28.1</td>\n",
       "      <td>0.167</td>\n",
       "      <td>21</td>\n",
       "      <td>0</td>\n",
       "    </tr>\n",
       "    <tr>\n",
       "      <th>4</th>\n",
       "      <td>0</td>\n",
       "      <td>137</td>\n",
       "      <td>40</td>\n",
       "      <td>35</td>\n",
       "      <td>168</td>\n",
       "      <td>43.1</td>\n",
       "      <td>2.288</td>\n",
       "      <td>33</td>\n",
       "      <td>1</td>\n",
       "    </tr>\n",
       "  </tbody>\n",
       "</table>\n",
       "</div>"
      ],
      "text/plain": [
       "   Pregnancies  Glucose  BloodPressure  SkinThickness  Insulin   BMI  \\\n",
       "0            6      148             72             35        0  33.6   \n",
       "1            1       85             66             29        0  26.6   \n",
       "2            8      183             64              0        0  23.3   \n",
       "3            1       89             66             23       94  28.1   \n",
       "4            0      137             40             35      168  43.1   \n",
       "\n",
       "   DiabetesPedigreeFunction  Age  Class  \n",
       "0                     0.627   50      1  \n",
       "1                     0.351   31      0  \n",
       "2                     0.672   32      1  \n",
       "3                     0.167   21      0  \n",
       "4                     2.288   33      1  "
      ]
     },
     "execution_count": 3,
     "metadata": {},
     "output_type": "execute_result"
    }
   ],
   "source": [
    "df.columns = ['Pregnancies', 'Glucose', 'BloodPressure', 'SkinThickness', 'Insulin',  \n",
    "         'BMI', 'DiabetesPedigreeFunction', 'Age', 'Class']\n",
    "df.head()"
   ]
  },
  {
   "cell_type": "markdown",
   "metadata": {},
   "source": [
    "### Method 2 to load data"
   ]
  },
  {
   "cell_type": "code",
   "execution_count": 4,
   "metadata": {},
   "outputs": [],
   "source": [
    "# load the dataset\n",
    "dataset = loadtxt('data/pima-indians-diabetes.csv', delimiter=',')"
   ]
  },
  {
   "cell_type": "code",
   "execution_count": 5,
   "metadata": {},
   "outputs": [
    {
     "data": {
      "text/plain": [
       "array([[  6.   , 148.   ,  72.   , ...,   0.627,  50.   ,   1.   ],\n",
       "       [  1.   ,  85.   ,  66.   , ...,   0.351,  31.   ,   0.   ],\n",
       "       [  8.   , 183.   ,  64.   , ...,   0.672,  32.   ,   1.   ],\n",
       "       ...,\n",
       "       [  5.   , 121.   ,  72.   , ...,   0.245,  30.   ,   0.   ],\n",
       "       [  1.   , 126.   ,  60.   , ...,   0.349,  47.   ,   1.   ],\n",
       "       [  1.   ,  93.   ,  70.   , ...,   0.315,  23.   ,   0.   ]])"
      ]
     },
     "execution_count": 5,
     "metadata": {},
     "output_type": "execute_result"
    }
   ],
   "source": [
    "dataset"
   ]
  },
  {
   "cell_type": "code",
   "execution_count": 6,
   "metadata": {},
   "outputs": [],
   "source": [
    "# split into input (X) and output (y) variables\n",
    "X = dataset[:,0:8]\n",
    "y = dataset[:,8]"
   ]
  },
  {
   "cell_type": "code",
   "execution_count": 7,
   "metadata": {},
   "outputs": [
    {
     "name": "stdout",
     "output_type": "stream",
     "text": [
      "Scaled_X:\n",
      " [[ 0.63994726  0.84832379  0.14964075 ...  0.20401277  0.46849198\n",
      "   1.4259954 ]\n",
      " [-0.84488505 -1.12339636 -0.16054575 ... -0.68442195 -0.36506078\n",
      "  -0.19067191]\n",
      " [ 1.23388019  1.94372388 -0.26394125 ... -1.10325546  0.60439732\n",
      "  -0.10558415]\n",
      " ...\n",
      " [ 0.3429808   0.00330087  0.14964075 ... -0.73518964 -0.68519336\n",
      "  -0.27575966]\n",
      " [-0.84488505  0.1597866  -0.47073225 ... -0.24020459 -0.37110101\n",
      "   1.17073215]\n",
      " [-0.84488505 -0.8730192   0.04624525 ... -0.20212881 -0.47378505\n",
      "  -0.87137393]]\n"
     ]
    }
   ],
   "source": [
    "X_scaled = scale(X) \n",
    "print('Scaled_X:\\n', X_scaled)"
   ]
  },
  {
   "cell_type": "code",
   "execution_count": 8,
   "metadata": {},
   "outputs": [],
   "source": [
    "# Split dataset into 'train' & 'test' sets\n",
    "X_train, X_test, y_train, y_test = train_test_split(X_scaled, y, test_size=0.33, random_state=42)"
   ]
  },
  {
   "cell_type": "code",
   "execution_count": 9,
   "metadata": {},
   "outputs": [
    {
     "name": "stdout",
     "output_type": "stream",
     "text": [
      "Y_Train Encoded:\n",
      " [[1. 0.]\n",
      " [1. 0.]\n",
      " [1. 0.]\n",
      " ...\n",
      " [0. 1.]\n",
      " [0. 1.]\n",
      " [1. 0.]]\n"
     ]
    }
   ],
   "source": [
    "# (optional): one hot encoding??\n",
    "y_train = np_utils.to_categorical(y_train)\n",
    "\n",
    "print('Y_Train Encoded:\\n', y_train)"
   ]
  },
  {
   "cell_type": "markdown",
   "metadata": {},
   "source": [
    "## 2. Define Keras Model\n",
    "\n",
    "\n",
    "The model design:\n",
    "\n",
    "- 3 layers.\n",
    "- 22 total neurons.\n",
    "- Relu & Sigmoid activation functions."
   ]
  },
  {
   "cell_type": "code",
   "execution_count": 10,
   "metadata": {},
   "outputs": [],
   "source": [
    "# define the keras model\n",
    "model = Sequential()\n",
    "model.add(Dense(12, input_dim=8, activation='relu'))\n",
    "model.add(Dense(8, activation='relu'))\n",
    "model.add(Dense(2, activation='sigmoid'))"
   ]
  },
  {
   "cell_type": "markdown",
   "metadata": {},
   "source": [
    "## 3. Compile Keras Model\n"
   ]
  },
  {
   "cell_type": "code",
   "execution_count": 11,
   "metadata": {},
   "outputs": [],
   "source": [
    "# compile the keras model\n",
    "model.compile(loss='binary_crossentropy', optimizer='adam', metrics=['accuracy'])"
   ]
  },
  {
   "cell_type": "markdown",
   "metadata": {},
   "source": [
    "## 4. Fit Keras Model"
   ]
  },
  {
   "cell_type": "code",
   "execution_count": 12,
   "metadata": {},
   "outputs": [
    {
     "name": "stdout",
     "output_type": "stream",
     "text": [
      "Epoch 1/150\n",
      "35/35 [==============================] - 1s 20ms/step - loss: 0.7277 - accuracy: 0.5147 - val_loss: 0.6930 - val_accuracy: 0.6059\n",
      "Epoch 2/150\n",
      "35/35 [==============================] - 0s 2ms/step - loss: 0.6846 - accuracy: 0.6071 - val_loss: 0.6741 - val_accuracy: 0.6529\n",
      "Epoch 3/150\n",
      "35/35 [==============================] - 0s 2ms/step - loss: 0.6761 - accuracy: 0.6011 - val_loss: 0.6565 - val_accuracy: 0.6471\n",
      "Epoch 4/150\n",
      "35/35 [==============================] - 0s 2ms/step - loss: 0.6666 - accuracy: 0.5966 - val_loss: 0.6378 - val_accuracy: 0.6588\n",
      "Epoch 5/150\n",
      "35/35 [==============================] - 0s 2ms/step - loss: 0.6184 - accuracy: 0.6563 - val_loss: 0.6186 - val_accuracy: 0.6588\n",
      "Epoch 6/150\n",
      "35/35 [==============================] - 0s 4ms/step - loss: 0.6023 - accuracy: 0.6702 - val_loss: 0.6002 - val_accuracy: 0.6529\n",
      "Epoch 7/150\n",
      "35/35 [==============================] - 0s 2ms/step - loss: 0.5932 - accuracy: 0.6530 - val_loss: 0.5802 - val_accuracy: 0.6529\n",
      "Epoch 8/150\n",
      "35/35 [==============================] - 0s 2ms/step - loss: 0.5473 - accuracy: 0.7295 - val_loss: 0.5606 - val_accuracy: 0.6824\n",
      "Epoch 9/150\n",
      "35/35 [==============================] - 0s 2ms/step - loss: 0.5326 - accuracy: 0.7572 - val_loss: 0.5414 - val_accuracy: 0.7059\n",
      "Epoch 10/150\n",
      "35/35 [==============================] - 0s 2ms/step - loss: 0.5213 - accuracy: 0.7647 - val_loss: 0.5246 - val_accuracy: 0.7412\n",
      "Epoch 11/150\n",
      "35/35 [==============================] - 0s 2ms/step - loss: 0.5075 - accuracy: 0.7658 - val_loss: 0.5108 - val_accuracy: 0.7529\n",
      "Epoch 12/150\n",
      "35/35 [==============================] - 0s 2ms/step - loss: 0.4994 - accuracy: 0.7627 - val_loss: 0.4983 - val_accuracy: 0.7588\n",
      "Epoch 13/150\n",
      "35/35 [==============================] - 0s 2ms/step - loss: 0.4708 - accuracy: 0.7828 - val_loss: 0.4884 - val_accuracy: 0.7529\n",
      "Epoch 14/150\n",
      "35/35 [==============================] - 0s 2ms/step - loss: 0.4320 - accuracy: 0.8025 - val_loss: 0.4820 - val_accuracy: 0.7529\n",
      "Epoch 15/150\n",
      "35/35 [==============================] - 0s 2ms/step - loss: 0.4553 - accuracy: 0.7884 - val_loss: 0.4773 - val_accuracy: 0.7588\n",
      "Epoch 16/150\n",
      "35/35 [==============================] - 0s 2ms/step - loss: 0.4455 - accuracy: 0.7892 - val_loss: 0.4734 - val_accuracy: 0.7529\n",
      "Epoch 17/150\n",
      "35/35 [==============================] - 0s 2ms/step - loss: 0.4553 - accuracy: 0.7838 - val_loss: 0.4717 - val_accuracy: 0.7588\n",
      "Epoch 18/150\n",
      "35/35 [==============================] - 0s 2ms/step - loss: 0.4283 - accuracy: 0.8037 - val_loss: 0.4705 - val_accuracy: 0.7588\n",
      "Epoch 19/150\n",
      "35/35 [==============================] - 0s 2ms/step - loss: 0.4014 - accuracy: 0.8152 - val_loss: 0.4682 - val_accuracy: 0.7471\n",
      "Epoch 20/150\n",
      "35/35 [==============================] - 0s 2ms/step - loss: 0.4266 - accuracy: 0.7884 - val_loss: 0.4668 - val_accuracy: 0.7412\n",
      "Epoch 21/150\n",
      "35/35 [==============================] - 0s 3ms/step - loss: 0.4297 - accuracy: 0.8190 - val_loss: 0.4675 - val_accuracy: 0.7471\n",
      "Epoch 22/150\n",
      "35/35 [==============================] - 0s 2ms/step - loss: 0.4220 - accuracy: 0.8174 - val_loss: 0.4660 - val_accuracy: 0.7588\n",
      "Epoch 23/150\n",
      "35/35 [==============================] - 0s 2ms/step - loss: 0.4131 - accuracy: 0.8102 - val_loss: 0.4666 - val_accuracy: 0.7471\n",
      "Epoch 24/150\n",
      "35/35 [==============================] - 0s 2ms/step - loss: 0.4390 - accuracy: 0.7964 - val_loss: 0.4665 - val_accuracy: 0.7529\n",
      "Epoch 25/150\n",
      "35/35 [==============================] - 0s 2ms/step - loss: 0.3981 - accuracy: 0.8220 - val_loss: 0.4663 - val_accuracy: 0.7529\n",
      "Epoch 26/150\n",
      "35/35 [==============================] - 0s 2ms/step - loss: 0.3955 - accuracy: 0.8381 - val_loss: 0.4654 - val_accuracy: 0.7706\n",
      "Epoch 27/150\n",
      "35/35 [==============================] - 0s 2ms/step - loss: 0.4295 - accuracy: 0.8222 - val_loss: 0.4665 - val_accuracy: 0.7588\n",
      "Epoch 28/150\n",
      "35/35 [==============================] - 0s 2ms/step - loss: 0.4024 - accuracy: 0.8209 - val_loss: 0.4670 - val_accuracy: 0.7765\n",
      "Epoch 29/150\n",
      "35/35 [==============================] - 0s 2ms/step - loss: 0.4079 - accuracy: 0.8368 - val_loss: 0.4676 - val_accuracy: 0.7706\n",
      "Epoch 30/150\n",
      "35/35 [==============================] - 0s 2ms/step - loss: 0.4007 - accuracy: 0.8312 - val_loss: 0.4675 - val_accuracy: 0.7765\n",
      "Epoch 31/150\n",
      "35/35 [==============================] - 0s 2ms/step - loss: 0.4261 - accuracy: 0.8222 - val_loss: 0.4668 - val_accuracy: 0.7765\n",
      "Epoch 32/150\n",
      "35/35 [==============================] - 0s 2ms/step - loss: 0.4531 - accuracy: 0.7921 - val_loss: 0.4678 - val_accuracy: 0.7706\n",
      "Epoch 33/150\n",
      "35/35 [==============================] - 0s 2ms/step - loss: 0.3897 - accuracy: 0.8446 - val_loss: 0.4687 - val_accuracy: 0.7706\n",
      "Epoch 34/150\n",
      "35/35 [==============================] - 0s 2ms/step - loss: 0.3876 - accuracy: 0.8228 - val_loss: 0.4701 - val_accuracy: 0.7647\n",
      "Epoch 35/150\n",
      "35/35 [==============================] - 0s 2ms/step - loss: 0.3749 - accuracy: 0.8453 - val_loss: 0.4691 - val_accuracy: 0.7588\n",
      "Epoch 36/150\n",
      "35/35 [==============================] - 0s 2ms/step - loss: 0.3924 - accuracy: 0.8149 - val_loss: 0.4687 - val_accuracy: 0.7706\n",
      "Epoch 37/150\n",
      "35/35 [==============================] - 0s 2ms/step - loss: 0.3971 - accuracy: 0.8204 - val_loss: 0.4684 - val_accuracy: 0.7706\n",
      "Epoch 38/150\n",
      "35/35 [==============================] - 0s 4ms/step - loss: 0.3617 - accuracy: 0.8447 - val_loss: 0.4704 - val_accuracy: 0.7706\n",
      "Epoch 39/150\n",
      "35/35 [==============================] - 0s 2ms/step - loss: 0.4072 - accuracy: 0.8181 - val_loss: 0.4700 - val_accuracy: 0.7647\n",
      "Epoch 40/150\n",
      "35/35 [==============================] - 0s 2ms/step - loss: 0.3975 - accuracy: 0.8271 - val_loss: 0.4704 - val_accuracy: 0.7765\n",
      "Epoch 41/150\n",
      "35/35 [==============================] - 0s 2ms/step - loss: 0.4274 - accuracy: 0.8071 - val_loss: 0.4715 - val_accuracy: 0.7706\n",
      "Epoch 42/150\n",
      "35/35 [==============================] - 0s 2ms/step - loss: 0.4214 - accuracy: 0.8216 - val_loss: 0.4716 - val_accuracy: 0.7706\n",
      "Epoch 43/150\n",
      "35/35 [==============================] - 0s 2ms/step - loss: 0.3820 - accuracy: 0.8359 - val_loss: 0.4716 - val_accuracy: 0.7706\n",
      "Epoch 44/150\n",
      "35/35 [==============================] - 0s 2ms/step - loss: 0.3809 - accuracy: 0.8224 - val_loss: 0.4714 - val_accuracy: 0.7765\n",
      "Epoch 45/150\n",
      "35/35 [==============================] - 0s 2ms/step - loss: 0.3996 - accuracy: 0.8415 - val_loss: 0.4720 - val_accuracy: 0.7706\n",
      "Epoch 46/150\n",
      "35/35 [==============================] - 0s 2ms/step - loss: 0.4164 - accuracy: 0.8158 - val_loss: 0.4715 - val_accuracy: 0.7647\n",
      "Epoch 47/150\n",
      "35/35 [==============================] - 0s 2ms/step - loss: 0.4261 - accuracy: 0.8024 - val_loss: 0.4712 - val_accuracy: 0.7588\n",
      "Epoch 48/150\n",
      "35/35 [==============================] - 0s 2ms/step - loss: 0.3872 - accuracy: 0.8089 - val_loss: 0.4714 - val_accuracy: 0.7588\n",
      "Epoch 49/150\n",
      "35/35 [==============================] - 0s 2ms/step - loss: 0.3765 - accuracy: 0.8163 - val_loss: 0.4717 - val_accuracy: 0.7529\n",
      "Epoch 50/150\n",
      "35/35 [==============================] - 0s 2ms/step - loss: 0.3980 - accuracy: 0.8319 - val_loss: 0.4726 - val_accuracy: 0.7588\n",
      "Epoch 51/150\n",
      "35/35 [==============================] - 0s 2ms/step - loss: 0.3287 - accuracy: 0.8586 - val_loss: 0.4740 - val_accuracy: 0.7529\n",
      "Epoch 52/150\n",
      "35/35 [==============================] - 0s 2ms/step - loss: 0.3814 - accuracy: 0.8262 - val_loss: 0.4722 - val_accuracy: 0.7588\n",
      "Epoch 53/150\n",
      "35/35 [==============================] - 0s 2ms/step - loss: 0.3924 - accuracy: 0.8078 - val_loss: 0.4729 - val_accuracy: 0.7529\n",
      "Epoch 54/150\n",
      "35/35 [==============================] - 0s 2ms/step - loss: 0.4042 - accuracy: 0.8236 - val_loss: 0.4730 - val_accuracy: 0.7588\n",
      "Epoch 55/150\n",
      "35/35 [==============================] - 0s 2ms/step - loss: 0.3728 - accuracy: 0.8465 - val_loss: 0.4729 - val_accuracy: 0.7588\n",
      "Epoch 56/150\n",
      "35/35 [==============================] - 0s 2ms/step - loss: 0.3861 - accuracy: 0.8296 - val_loss: 0.4729 - val_accuracy: 0.7529\n",
      "Epoch 57/150\n",
      "35/35 [==============================] - 0s 2ms/step - loss: 0.3956 - accuracy: 0.8200 - val_loss: 0.4744 - val_accuracy: 0.7588\n",
      "Epoch 58/150\n",
      "35/35 [==============================] - 0s 4ms/step - loss: 0.3787 - accuracy: 0.8110 - val_loss: 0.4738 - val_accuracy: 0.7588\n"
     ]
    },
    {
     "name": "stdout",
     "output_type": "stream",
     "text": [
      "Epoch 59/150\n",
      "35/35 [==============================] - 0s 2ms/step - loss: 0.3677 - accuracy: 0.8303 - val_loss: 0.4743 - val_accuracy: 0.7647\n",
      "Epoch 60/150\n",
      "35/35 [==============================] - 0s 2ms/step - loss: 0.3584 - accuracy: 0.8278 - val_loss: 0.4757 - val_accuracy: 0.7647\n",
      "Epoch 61/150\n",
      "35/35 [==============================] - 0s 2ms/step - loss: 0.3535 - accuracy: 0.8553 - val_loss: 0.4759 - val_accuracy: 0.7647\n",
      "Epoch 62/150\n",
      "35/35 [==============================] - 0s 2ms/step - loss: 0.3895 - accuracy: 0.8235 - val_loss: 0.4750 - val_accuracy: 0.7647\n",
      "Epoch 63/150\n",
      "35/35 [==============================] - 0s 2ms/step - loss: 0.3750 - accuracy: 0.8151 - val_loss: 0.4743 - val_accuracy: 0.7647\n",
      "Epoch 64/150\n",
      "35/35 [==============================] - 0s 2ms/step - loss: 0.3352 - accuracy: 0.8464 - val_loss: 0.4748 - val_accuracy: 0.7647\n",
      "Epoch 65/150\n",
      "35/35 [==============================] - 0s 2ms/step - loss: 0.3715 - accuracy: 0.8256 - val_loss: 0.4748 - val_accuracy: 0.7647\n",
      "Epoch 66/150\n",
      "35/35 [==============================] - 0s 2ms/step - loss: 0.3349 - accuracy: 0.8411 - val_loss: 0.4761 - val_accuracy: 0.7647\n",
      "Epoch 67/150\n",
      "35/35 [==============================] - 0s 2ms/step - loss: 0.3677 - accuracy: 0.8307 - val_loss: 0.4765 - val_accuracy: 0.7647\n",
      "Epoch 68/150\n",
      "35/35 [==============================] - 0s 2ms/step - loss: 0.3341 - accuracy: 0.8495 - val_loss: 0.4762 - val_accuracy: 0.7588\n",
      "Epoch 69/150\n",
      "35/35 [==============================] - 0s 4ms/step - loss: 0.4013 - accuracy: 0.8183 - val_loss: 0.4754 - val_accuracy: 0.7706\n",
      "Epoch 70/150\n",
      "35/35 [==============================] - 0s 2ms/step - loss: 0.3776 - accuracy: 0.8342 - val_loss: 0.4758 - val_accuracy: 0.7706\n",
      "Epoch 71/150\n",
      "35/35 [==============================] - 0s 2ms/step - loss: 0.3742 - accuracy: 0.8373 - val_loss: 0.4765 - val_accuracy: 0.7706\n",
      "Epoch 72/150\n",
      "35/35 [==============================] - 0s 2ms/step - loss: 0.3910 - accuracy: 0.7963 - val_loss: 0.4764 - val_accuracy: 0.7706\n",
      "Epoch 73/150\n",
      "35/35 [==============================] - 0s 2ms/step - loss: 0.3272 - accuracy: 0.8621 - val_loss: 0.4756 - val_accuracy: 0.7765\n",
      "Epoch 74/150\n",
      "35/35 [==============================] - 0s 2ms/step - loss: 0.3007 - accuracy: 0.8721 - val_loss: 0.4775 - val_accuracy: 0.7647\n",
      "Epoch 75/150\n",
      "35/35 [==============================] - 0s 2ms/step - loss: 0.3570 - accuracy: 0.8328 - val_loss: 0.4769 - val_accuracy: 0.7706\n",
      "Epoch 76/150\n",
      "35/35 [==============================] - 0s 2ms/step - loss: 0.3491 - accuracy: 0.8469 - val_loss: 0.4774 - val_accuracy: 0.7706\n",
      "Epoch 77/150\n",
      "35/35 [==============================] - 0s 2ms/step - loss: 0.3800 - accuracy: 0.8340 - val_loss: 0.4779 - val_accuracy: 0.7706\n",
      "Epoch 78/150\n",
      "35/35 [==============================] - 0s 2ms/step - loss: 0.3457 - accuracy: 0.8399 - val_loss: 0.4779 - val_accuracy: 0.7706\n",
      "Epoch 79/150\n",
      "35/35 [==============================] - 0s 2ms/step - loss: 0.3110 - accuracy: 0.8820 - val_loss: 0.4760 - val_accuracy: 0.7706\n",
      "Epoch 80/150\n",
      "35/35 [==============================] - 0s 2ms/step - loss: 0.3559 - accuracy: 0.8410 - val_loss: 0.4754 - val_accuracy: 0.7647\n",
      "Epoch 81/150\n",
      "35/35 [==============================] - 0s 2ms/step - loss: 0.3567 - accuracy: 0.8217 - val_loss: 0.4781 - val_accuracy: 0.7647\n",
      "Epoch 82/150\n",
      "35/35 [==============================] - 0s 2ms/step - loss: 0.3729 - accuracy: 0.8319 - val_loss: 0.4777 - val_accuracy: 0.7706\n",
      "Epoch 83/150\n",
      "35/35 [==============================] - 0s 2ms/step - loss: 0.3022 - accuracy: 0.8746 - val_loss: 0.4784 - val_accuracy: 0.7706\n",
      "Epoch 84/150\n",
      "35/35 [==============================] - 0s 2ms/step - loss: 0.3575 - accuracy: 0.8287 - val_loss: 0.4781 - val_accuracy: 0.7647\n",
      "Epoch 85/150\n",
      "35/35 [==============================] - 0s 2ms/step - loss: 0.3333 - accuracy: 0.8438 - val_loss: 0.4798 - val_accuracy: 0.7647\n",
      "Epoch 86/150\n",
      "35/35 [==============================] - 0s 2ms/step - loss: 0.3590 - accuracy: 0.8418 - val_loss: 0.4770 - val_accuracy: 0.7706\n",
      "Epoch 87/150\n",
      "35/35 [==============================] - 0s 2ms/step - loss: 0.3591 - accuracy: 0.8460 - val_loss: 0.4765 - val_accuracy: 0.7647\n",
      "Epoch 88/150\n",
      "35/35 [==============================] - 0s 2ms/step - loss: 0.3780 - accuracy: 0.8072 - val_loss: 0.4778 - val_accuracy: 0.7647\n",
      "Epoch 89/150\n",
      "35/35 [==============================] - 0s 2ms/step - loss: 0.3291 - accuracy: 0.8626 - val_loss: 0.4781 - val_accuracy: 0.7647\n",
      "Epoch 90/150\n",
      "35/35 [==============================] - 0s 2ms/step - loss: 0.3407 - accuracy: 0.8674 - val_loss: 0.4768 - val_accuracy: 0.7647\n",
      "Epoch 91/150\n",
      "35/35 [==============================] - 0s 2ms/step - loss: 0.3630 - accuracy: 0.8338 - val_loss: 0.4762 - val_accuracy: 0.7647\n",
      "Epoch 92/150\n",
      "35/35 [==============================] - 0s 2ms/step - loss: 0.3082 - accuracy: 0.8787 - val_loss: 0.4778 - val_accuracy: 0.7647\n",
      "Epoch 93/150\n",
      "35/35 [==============================] - 0s 2ms/step - loss: 0.3842 - accuracy: 0.8171 - val_loss: 0.4785 - val_accuracy: 0.7588\n",
      "Epoch 94/150\n",
      "35/35 [==============================] - 0s 2ms/step - loss: 0.3482 - accuracy: 0.8471 - val_loss: 0.4781 - val_accuracy: 0.7588\n",
      "Epoch 95/150\n",
      "35/35 [==============================] - 0s 2ms/step - loss: 0.3585 - accuracy: 0.8236 - val_loss: 0.4782 - val_accuracy: 0.7588\n",
      "Epoch 96/150\n",
      "35/35 [==============================] - 0s 2ms/step - loss: 0.3644 - accuracy: 0.8281 - val_loss: 0.4787 - val_accuracy: 0.7647\n",
      "Epoch 97/150\n",
      "35/35 [==============================] - 0s 2ms/step - loss: 0.3468 - accuracy: 0.8302 - val_loss: 0.4796 - val_accuracy: 0.7529\n",
      "Epoch 98/150\n",
      "35/35 [==============================] - 0s 2ms/step - loss: 0.3394 - accuracy: 0.8644 - val_loss: 0.4796 - val_accuracy: 0.7529\n",
      "Epoch 99/150\n",
      "35/35 [==============================] - 0s 2ms/step - loss: 0.3416 - accuracy: 0.8319 - val_loss: 0.4799 - val_accuracy: 0.7588\n",
      "Epoch 100/150\n",
      "35/35 [==============================] - 0s 2ms/step - loss: 0.3580 - accuracy: 0.8399 - val_loss: 0.4793 - val_accuracy: 0.7529\n",
      "Epoch 101/150\n",
      "35/35 [==============================] - 0s 4ms/step - loss: 0.3418 - accuracy: 0.8398 - val_loss: 0.4775 - val_accuracy: 0.7529\n",
      "Epoch 102/150\n",
      "35/35 [==============================] - 0s 2ms/step - loss: 0.3610 - accuracy: 0.8376 - val_loss: 0.4809 - val_accuracy: 0.7529\n",
      "Epoch 103/150\n",
      "35/35 [==============================] - 0s 2ms/step - loss: 0.3948 - accuracy: 0.8117 - val_loss: 0.4785 - val_accuracy: 0.7529\n",
      "Epoch 104/150\n",
      "35/35 [==============================] - 0s 2ms/step - loss: 0.3145 - accuracy: 0.8525 - val_loss: 0.4787 - val_accuracy: 0.7529\n",
      "Epoch 105/150\n",
      "35/35 [==============================] - 0s 2ms/step - loss: 0.3089 - accuracy: 0.8569 - val_loss: 0.4801 - val_accuracy: 0.7588\n",
      "Epoch 106/150\n",
      "35/35 [==============================] - 0s 2ms/step - loss: 0.3403 - accuracy: 0.8580 - val_loss: 0.4800 - val_accuracy: 0.7529\n",
      "Epoch 107/150\n",
      "35/35 [==============================] - 0s 2ms/step - loss: 0.3178 - accuracy: 0.8567 - val_loss: 0.4815 - val_accuracy: 0.7529\n",
      "Epoch 108/150\n",
      "35/35 [==============================] - 0s 2ms/step - loss: 0.3094 - accuracy: 0.8492 - val_loss: 0.4798 - val_accuracy: 0.7471\n",
      "Epoch 109/150\n",
      "35/35 [==============================] - 0s 2ms/step - loss: 0.3572 - accuracy: 0.8313 - val_loss: 0.4813 - val_accuracy: 0.7471\n",
      "Epoch 110/150\n",
      "35/35 [==============================] - 0s 2ms/step - loss: 0.3209 - accuracy: 0.8632 - val_loss: 0.4809 - val_accuracy: 0.7471\n",
      "Epoch 111/150\n",
      "35/35 [==============================] - 0s 2ms/step - loss: 0.3110 - accuracy: 0.8903 - val_loss: 0.4838 - val_accuracy: 0.7471\n",
      "Epoch 112/150\n",
      "35/35 [==============================] - 0s 2ms/step - loss: 0.3395 - accuracy: 0.8453 - val_loss: 0.4808 - val_accuracy: 0.7471\n",
      "Epoch 113/150\n",
      "35/35 [==============================] - 0s 2ms/step - loss: 0.3109 - accuracy: 0.8640 - val_loss: 0.4832 - val_accuracy: 0.7471\n",
      "Epoch 114/150\n",
      "35/35 [==============================] - 0s 2ms/step - loss: 0.3612 - accuracy: 0.8213 - val_loss: 0.4821 - val_accuracy: 0.7471\n",
      "Epoch 115/150\n",
      "35/35 [==============================] - 0s 2ms/step - loss: 0.3326 - accuracy: 0.8401 - val_loss: 0.4812 - val_accuracy: 0.7471\n",
      "Epoch 116/150\n"
     ]
    },
    {
     "name": "stdout",
     "output_type": "stream",
     "text": [
      "35/35 [==============================] - 0s 2ms/step - loss: 0.3207 - accuracy: 0.8455 - val_loss: 0.4830 - val_accuracy: 0.7471\n",
      "Epoch 117/150\n",
      "35/35 [==============================] - 0s 2ms/step - loss: 0.3007 - accuracy: 0.8798 - val_loss: 0.4855 - val_accuracy: 0.7412\n",
      "Epoch 118/150\n",
      "35/35 [==============================] - 0s 2ms/step - loss: 0.3096 - accuracy: 0.8476 - val_loss: 0.4845 - val_accuracy: 0.7412\n",
      "Epoch 119/150\n",
      "35/35 [==============================] - 0s 2ms/step - loss: 0.3174 - accuracy: 0.8608 - val_loss: 0.4829 - val_accuracy: 0.7412\n",
      "Epoch 120/150\n",
      "35/35 [==============================] - 0s 2ms/step - loss: 0.3513 - accuracy: 0.8374 - val_loss: 0.4847 - val_accuracy: 0.7412\n",
      "Epoch 121/150\n",
      "35/35 [==============================] - 0s 2ms/step - loss: 0.3015 - accuracy: 0.8668 - val_loss: 0.4833 - val_accuracy: 0.7412\n",
      "Epoch 122/150\n",
      "35/35 [==============================] - 0s 2ms/step - loss: 0.3157 - accuracy: 0.8554 - val_loss: 0.4886 - val_accuracy: 0.7412\n",
      "Epoch 123/150\n",
      "35/35 [==============================] - 0s 2ms/step - loss: 0.3904 - accuracy: 0.8180 - val_loss: 0.4850 - val_accuracy: 0.7412\n",
      "Epoch 124/150\n",
      "35/35 [==============================] - 0s 2ms/step - loss: 0.3598 - accuracy: 0.8397 - val_loss: 0.4868 - val_accuracy: 0.7353\n",
      "Epoch 125/150\n",
      "35/35 [==============================] - 0s 2ms/step - loss: 0.3049 - accuracy: 0.8417 - val_loss: 0.4881 - val_accuracy: 0.7471\n",
      "Epoch 126/150\n",
      "35/35 [==============================] - 0s 2ms/step - loss: 0.2911 - accuracy: 0.8564 - val_loss: 0.4893 - val_accuracy: 0.7412\n",
      "Epoch 127/150\n",
      "35/35 [==============================] - 0s 2ms/step - loss: 0.3452 - accuracy: 0.8404 - val_loss: 0.4874 - val_accuracy: 0.7529\n",
      "Epoch 128/150\n",
      "35/35 [==============================] - 0s 2ms/step - loss: 0.3159 - accuracy: 0.8602 - val_loss: 0.4895 - val_accuracy: 0.7412\n",
      "Epoch 129/150\n",
      "35/35 [==============================] - 0s 2ms/step - loss: 0.3472 - accuracy: 0.8346 - val_loss: 0.4878 - val_accuracy: 0.7353\n",
      "Epoch 130/150\n",
      "35/35 [==============================] - 0s 2ms/step - loss: 0.2683 - accuracy: 0.8739 - val_loss: 0.4893 - val_accuracy: 0.7353\n",
      "Epoch 131/150\n",
      "35/35 [==============================] - 0s 2ms/step - loss: 0.2974 - accuracy: 0.8706 - val_loss: 0.4899 - val_accuracy: 0.7412\n",
      "Epoch 132/150\n",
      "35/35 [==============================] - 0s 4ms/step - loss: 0.2865 - accuracy: 0.8780 - val_loss: 0.4899 - val_accuracy: 0.7471\n",
      "Epoch 133/150\n",
      "35/35 [==============================] - 0s 2ms/step - loss: 0.2972 - accuracy: 0.8741 - val_loss: 0.4914 - val_accuracy: 0.7471\n",
      "Epoch 134/150\n",
      "35/35 [==============================] - 0s 2ms/step - loss: 0.3299 - accuracy: 0.8443 - val_loss: 0.4886 - val_accuracy: 0.7412\n",
      "Epoch 135/150\n",
      "35/35 [==============================] - 0s 2ms/step - loss: 0.3093 - accuracy: 0.8533 - val_loss: 0.4915 - val_accuracy: 0.7412\n",
      "Epoch 136/150\n",
      "35/35 [==============================] - 0s 2ms/step - loss: 0.3575 - accuracy: 0.8170 - val_loss: 0.4895 - val_accuracy: 0.7529\n",
      "Epoch 137/150\n",
      "35/35 [==============================] - 0s 2ms/step - loss: 0.3280 - accuracy: 0.8526 - val_loss: 0.4919 - val_accuracy: 0.7471\n",
      "Epoch 138/150\n",
      "35/35 [==============================] - 0s 2ms/step - loss: 0.2730 - accuracy: 0.8501 - val_loss: 0.4902 - val_accuracy: 0.7412\n",
      "Epoch 139/150\n",
      "35/35 [==============================] - 0s 2ms/step - loss: 0.3204 - accuracy: 0.8385 - val_loss: 0.4944 - val_accuracy: 0.7412\n",
      "Epoch 140/150\n",
      "35/35 [==============================] - 0s 2ms/step - loss: 0.3432 - accuracy: 0.8564 - val_loss: 0.4932 - val_accuracy: 0.7471\n",
      "Epoch 141/150\n",
      "35/35 [==============================] - 0s 2ms/step - loss: 0.3021 - accuracy: 0.8673 - val_loss: 0.4914 - val_accuracy: 0.7412\n",
      "Epoch 142/150\n",
      "35/35 [==============================] - 0s 2ms/step - loss: 0.3386 - accuracy: 0.8482 - val_loss: 0.4919 - val_accuracy: 0.7471\n",
      "Epoch 143/150\n",
      "35/35 [==============================] - 0s 2ms/step - loss: 0.3208 - accuracy: 0.8458 - val_loss: 0.4933 - val_accuracy: 0.7471\n",
      "Epoch 144/150\n",
      "35/35 [==============================] - 0s 2ms/step - loss: 0.3143 - accuracy: 0.8367 - val_loss: 0.4950 - val_accuracy: 0.7471\n",
      "Epoch 145/150\n",
      "35/35 [==============================] - 0s 2ms/step - loss: 0.2875 - accuracy: 0.8780 - val_loss: 0.4930 - val_accuracy: 0.7412\n",
      "Epoch 146/150\n",
      "35/35 [==============================] - 0s 2ms/step - loss: 0.3145 - accuracy: 0.8436 - val_loss: 0.4949 - val_accuracy: 0.7471\n",
      "Epoch 147/150\n",
      "35/35 [==============================] - 0s 2ms/step - loss: 0.2937 - accuracy: 0.8666 - val_loss: 0.4982 - val_accuracy: 0.7471\n",
      "Epoch 148/150\n",
      "35/35 [==============================] - 0s 2ms/step - loss: 0.2937 - accuracy: 0.8576 - val_loss: 0.4942 - val_accuracy: 0.7471\n",
      "Epoch 149/150\n",
      "35/35 [==============================] - 0s 2ms/step - loss: 0.3074 - accuracy: 0.8687 - val_loss: 0.4967 - val_accuracy: 0.7412\n",
      "Epoch 150/150\n",
      "35/35 [==============================] - 0s 2ms/step - loss: 0.3584 - accuracy: 0.8353 - val_loss: 0.4967 - val_accuracy: 0.7471\n"
     ]
    }
   ],
   "source": [
    "# fit the keras model on the dataset\n",
    "history = model.fit(X_train, y_train, validation_split=0.33, epochs=150, batch_size=10)\n",
    "# model.fit(X, y, epochs=150, batch_size=10, verbose=0)"
   ]
  },
  {
   "cell_type": "markdown",
   "metadata": {},
   "source": [
    "## 5. Evaluate Model"
   ]
  },
  {
   "cell_type": "code",
   "execution_count": 13,
   "metadata": {},
   "outputs": [
    {
     "name": "stdout",
     "output_type": "stream",
     "text": [
      "17/17 [==============================] - 0s 897us/step - loss: 0.3745 - accuracy: 0.8268\n",
      "Accuracy: 82.68\n"
     ]
    }
   ],
   "source": [
    "# evaluate the keras model\n",
    "_, accuracy = model.evaluate(X_train, y_train)\n",
    "print('Accuracy: %.2f' % (accuracy*100))"
   ]
  },
  {
   "cell_type": "markdown",
   "metadata": {},
   "source": [
    "## 6. Predictions"
   ]
  },
  {
   "cell_type": "code",
   "execution_count": 14,
   "metadata": {},
   "outputs": [
    {
     "name": "stdout",
     "output_type": "stream",
     "text": [
      "[0.6399472601593618, -0.7165334717264664, -0.5741277459136239, 0.7818138030884967, 0.956859653030945, 0.2547804694892943, -0.1264714020604746, 0.8303811324799336] => 0 (expected 1)\n",
      "[-0.5479185907225473, -0.2783734371474431, 0.30473400231574344, 0.7190857419965655, -0.6928905722954664, 0.47054318659717476, -0.9781448690748636, -1.0415494364835027] => 0 (expected 0)\n",
      "[-0.5479185907225473, -0.4035620184557355, -0.2639412465385531, -1.2882122129452327, -0.6928905722954664, -0.1513611156549505, -0.9479436823013037, -1.0415494364835027] => 0 (expected 1)\n",
      "[1.233880185600316, -0.4348591637828086, 0.5632227517949692, -1.2882122129452327, -0.6928905722954664, -0.9382604368719248, 1.1600991544931767, 0.06459135426761878] => 0 (expected 0)\n",
      "[0.9369137228798391, 0.4727580507023112, 1.0802002507534205, -1.2882122129452327, -0.6928905722954664, -0.26558843647676966, -0.7908975110787921, 1.4259954044228451] => 0 (expected 1)\n",
      "[0.6399472601593618, -0.560047745091101, 0.149640752628208, 0.7190857419965655, 0.956859653030945, 0.7243816773123278, -0.4466039818602094, 1.8514341700963535] => 0 (expected 0)\n",
      "[-0.8448850534430246, -1.56155639555744, -1.0911052448720753, -0.15910711329047122, -0.03299048216490182, -1.4713212673737466, -0.4496241005375654, -0.956461683348801] => 0 (expected 1)\n",
      "[-1.141851516163502, -0.12188771051207764, -3.572597239872642, -1.2882122129452327, -0.6928905722954664, 0.22939662041777864, 1.389628173972232, 0.9154688856146352] => 1 (expected 0)\n",
      "[0.04601433471840724, 1.036106666589627, 0.149640752628208, 0.5309015587207719, 0.4011543139736275, -0.08790149297616225, -0.40432232037722554, 0.31985461367172374] => 1 (expected 1)\n",
      "[0.3429807974388845, 0.8170266493001153, 0.45982725200327884, -1.2882122129452327, -0.6928905722954664, 0.2167046958820217, -0.7667365616599442, 2.70231170144337] => 1 (expected 1)\n"
     ]
    }
   ],
   "source": [
    "# make class predictions with the model\n",
    "predictions = np.argmax(model.predict(X_test), axis=-1)\n",
    "# summarize the first 5 cases\n",
    "for i in range(10):\n",
    "    print('%s => %d (expected %d)' % (X_test[i].tolist(), predictions[i], y[i]))"
   ]
  },
  {
   "cell_type": "code",
   "execution_count": 15,
   "metadata": {},
   "outputs": [
    {
     "data": {
      "text/plain": [
       "0.7519685039370079"
      ]
     },
     "execution_count": 15,
     "metadata": {},
     "output_type": "execute_result"
    }
   ],
   "source": [
    "y_pred = model.predict(X_test)\n",
    "\n",
    "y_pred = np.argmax(y_pred, axis=1) \n",
    "\n",
    "accuracy_score(y_test, y_pred)"
   ]
  },
  {
   "cell_type": "code",
   "execution_count": 16,
   "metadata": {},
   "outputs": [
    {
     "name": "stdout",
     "output_type": "stream",
     "text": [
      "['loss', 'accuracy']\n"
     ]
    }
   ],
   "source": [
    "print(model.metrics_names)"
   ]
  },
  {
   "cell_type": "markdown",
   "metadata": {},
   "source": [
    "One of the default callbacks that is registered when training all deep learning models is the History callback. It records training metrics for each epoch. This includes the loss and the accuracy (for classification problems) as well as the loss and accuracy for the validation dataset, if one is set.\n",
    "\n",
    "The history object is returned from calls to the fit() function used to train the model. Metrics are stored in a dictionary in the history member of the object returned."
   ]
  },
  {
   "cell_type": "code",
   "execution_count": 17,
   "metadata": {},
   "outputs": [
    {
     "name": "stdout",
     "output_type": "stream",
     "text": [
      "dict_keys(['loss', 'accuracy', 'val_loss', 'val_accuracy'])\n"
     ]
    }
   ],
   "source": [
    "print(history.history.keys())"
   ]
  },
  {
   "cell_type": "markdown",
   "metadata": {},
   "source": [
    "## 7. Plot against loss and accuracy\n",
    "\n",
    "The plots can provide an indication of useful things about the training of the model, such as:\n",
    "\n",
    "- It’s speed of convergence over epochs (slope).\n",
    "- Whether the model may have already converged (plateau of the line).\n",
    "- Whether the mode may be over-learning the training data (inflection for validation line)."
   ]
  },
  {
   "cell_type": "code",
   "execution_count": 18,
   "metadata": {},
   "outputs": [
    {
     "data": {
      "image/png": "[encoded data removed]",
      "text/plain": [
       "<Figure size 432x288 with 1 Axes>"
      ]
     },
     "metadata": {
      "needs_background": "light"
     },
     "output_type": "display_data"
    }
   ],
   "source": [
    "# summarize history for loss\n",
    "plt.plot(history.history['loss'])\n",
    "plt.plot(history.history['val_loss'])\n",
    "plt.title('model loss')\n",
    "plt.ylabel('loss')\n",
    "plt.xlabel('epoch')\n",
    "plt.legend(['train', 'test'], loc='upper left')\n",
    "plt.show()"
   ]
  },
  {
   "cell_type": "code",
   "execution_count": 19,
   "metadata": {},
   "outputs": [
    {
     "data": {
      "image/png": "[encoded data removed]",
      "text/plain": [
       "<Figure size 432x288 with 1 Axes>"
      ]
     },
     "metadata": {
      "needs_background": "light"
     },
     "output_type": "display_data"
    }
   ],
   "source": [
    "# summarize history for accuracy\n",
    "plt.plot(history.history['accuracy'])\n",
    "plt.plot(history.history['val_accuracy'])\n",
    "plt.title('model accuracy')\n",
    "plt.ylabel('accuracy')\n",
    "plt.xlabel('epoch')\n",
    "plt.legend(['train', 'test'], loc='upper left')\n",
    "plt.show()"
   ]
  },
  {
   "cell_type": "code",
   "execution_count": null,
   "metadata": {},
   "outputs": [],
   "source": []
  }
 ],
 "metadata": {
  "kernelspec": {
   "display_name": "DL",
   "language": "python",
   "name": "python3"
  },
  "language_info": {
   "codemirror_mode": {
    "name": "ipython",
    "version": 3
   },
   "file_extension": ".py",
   "mimetype": "text/x-python",
   "name": "python",
   "nbconvert_exporter": "python",
   "pygments_lexer": "ipython3",
   "version": "3.8.0"
  }
 },
 "nbformat": 4,
 "nbformat_minor": 2
}
